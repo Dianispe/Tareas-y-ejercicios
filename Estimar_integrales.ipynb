{
  "nbformat": 4,
  "nbformat_minor": 0,
  "metadata": {
    "colab": {
      "name": "Estimar integrales.ipynb",
      "provenance": [],
      "authorship_tag": "ABX9TyM5C6x5J9dvKWTe8cuipW8g",
      "include_colab_link": true
    },
    "kernelspec": {
      "name": "python3",
      "display_name": "Python 3"
    },
    "language_info": {
      "name": "python"
    }
  },
  "cells": [
    {
      "cell_type": "markdown",
      "metadata": {
        "id": "view-in-github",
        "colab_type": "text"
      },
      "source": [
        "<a href=\"https://colab.research.google.com/github/Dianispe/Tareas-y-ejercicios/blob/main/Estimar_integrales.ipynb\" target=\"_parent\"><img src=\"https://colab.research.google.com/assets/colab-badge.svg\" alt=\"Open In Colab\"/></a>"
      ]
    },
    {
      "cell_type": "markdown",
      "source": [
        "Estimar las integrales:\n",
        "\n",
        "1. (1-x^2)^3/2 dx de 0 a 1\n",
        "\n",
        "2. exp(x+x^2) dx de -2 a 2"
      ],
      "metadata": {
        "id": "FDIaVWDJoery"
      }
    },
    {
      "cell_type": "code",
      "source": [
        "# (1-x^2)^3/2 dx de 0 a 1\n",
        "\n",
        "import random\n",
        "\n",
        "def g(x):\n",
        "    return (1-x**2)**(3/2)\n",
        "n=100000\n",
        "sum=0\n",
        "inte=[]\n",
        "for i in range(n):\n",
        "    u=random.random()\n",
        "    sum=sum+g(u)\n",
        "    inte.append(sum)\n",
        "\n",
        "print(\"El valor de la integral de 0 a 1 es: \",sum/n)"
      ],
      "metadata": {
        "colab": {
          "base_uri": "https://localhost:8080/"
        },
        "id": "imaSFDbVq0qJ",
        "outputId": "b12e9834-90c9-43ce-86e9-a0c1b24fdf7f"
      },
      "execution_count": 9,
      "outputs": [
        {
          "output_type": "stream",
          "name": "stdout",
          "text": [
            "El valor de la integral de 0 a 1 es:  0.5904639917314909\n"
          ]
        }
      ]
    },
    {
      "cell_type": "code",
      "source": [
        "# exp(x+x^2) dx de -2 a 2\n",
        "\n",
        "from math import exp\n",
        "from sympy import Symbol\n",
        "from scipy.integrate import quad\n",
        "\n",
        "x=Symbol('x')\n",
        "f=lambda x: exp(x+x**2)\n",
        "\n",
        "print(\"El resultado de la integral de -2 a 2 y su error son: \", quad(f, -2,2))"
      ],
      "metadata": {
        "colab": {
          "base_uri": "https://localhost:8080/"
        },
        "id": "ccrDHnPrpfC3",
        "outputId": "15f29927-0d62-400d-c3f1-e849cdbdbd26"
      },
      "execution_count": 17,
      "outputs": [
        {
          "output_type": "stream",
          "name": "stdout",
          "text": [
            "El resultado de la integral de -2 a 2 y su error son:  (93.16275329244199, 1.6178564393124623e-09)\n"
          ]
        }
      ]
    }
  ]
}