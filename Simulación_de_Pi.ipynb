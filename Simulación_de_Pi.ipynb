{
  "nbformat": 4,
  "nbformat_minor": 0,
  "metadata": {
    "colab": {
      "name": "Simulación de Pi.ipynb",
      "provenance": [],
      "authorship_tag": "ABX9TyM1rUlpplC+LPGk4DhYUMyD",
      "include_colab_link": true
    },
    "kernelspec": {
      "name": "python3",
      "display_name": "Python 3"
    },
    "language_info": {
      "name": "python"
    }
  },
  "cells": [
    {
      "cell_type": "markdown",
      "metadata": {
        "id": "view-in-github",
        "colab_type": "text"
      },
      "source": [
        "<a href=\"https://colab.research.google.com/github/Dianispe/Tareas-y-ejercicios/blob/main/Simulaci%C3%B3n_de_Pi.ipynb\" target=\"_parent\"><img src=\"https://colab.research.google.com/assets/colab-badge.svg\" alt=\"Open In Colab\"/></a>"
      ]
    },
    {
      "cell_type": "markdown",
      "source": [
        "Tarea 1.\n",
        "Estimar el valor de pi usando la función random"
      ],
      "metadata": {
        "id": "9BUdd8G2fRoG"
      }
    },
    {
      "cell_type": "code",
      "execution_count": 1,
      "metadata": {
        "colab": {
          "base_uri": "https://localhost:8080/"
        },
        "id": "r2TPnTjHfKVX",
        "outputId": "f04d4d62-8c28-42be-fb4e-1b1dca47a90f"
      },
      "outputs": [
        {
          "output_type": "stream",
          "name": "stdout",
          "text": [
            "La media es:  0.78543 y multiplicada por 4: 3.14172\n",
            "\n",
            "El valor exacto de pi es:  3.141592653589793\n"
          ]
        }
      ],
      "source": [
        "from random import random\n",
        "from statistics import mean,variance\n",
        "from math import sqrt,pi\n",
        "import numpy as np\n",
        "nr=100000\n",
        "l1=[ ]\n",
        "l2=[ ]\n",
        "for i in range(nr):\n",
        "     x=random()\n",
        "     y=random()\n",
        "     if x**2+y**2<1:\n",
        "          I1=1\n",
        "     else:\n",
        "          I1=0\n",
        "     l1.append(I1)\n",
        "     l2.append(x*y)\n",
        "print(\"La media es: \",mean(l1), \"y multiplicada por 4:\", mean(l1)*4)\n",
        "print(\"\\nEl valor exacto de pi es: \",pi)"
      ]
    }
  ]
}