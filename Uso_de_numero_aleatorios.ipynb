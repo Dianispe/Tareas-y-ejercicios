{
  "nbformat": 4,
  "nbformat_minor": 0,
  "metadata": {
    "colab": {
      "name": "Uso de numero aleatorios.ipynb",
      "provenance": [],
      "authorship_tag": "ABX9TyNOj4EZ8+5tlQ6N5P1DnUPy",
      "include_colab_link": true
    },
    "kernelspec": {
      "name": "python3",
      "display_name": "Python 3"
    },
    "language_info": {
      "name": "python"
    }
  },
  "cells": [
    {
      "cell_type": "markdown",
      "metadata": {
        "id": "view-in-github",
        "colab_type": "text"
      },
      "source": [
        "<a href=\"https://colab.research.google.com/github/Dianispe/Tareas-y-ejercicios/blob/main/Uso_de_numero_aleatorios.ipynb\" target=\"_parent\"><img src=\"https://colab.research.google.com/assets/colab-badge.svg\" alt=\"Open In Colab\"/></a>"
      ]
    },
    {
      "cell_type": "markdown",
      "source": [
        "Ejercicio:\n",
        "\n",
        "1. Elegir al azar una ciudad de la Lista despues de hacer una mezcla.\n",
        "\n",
        "2. Elegir al azar tres ciudades después de una mezcla."
      ],
      "metadata": {
        "id": "KKEUy7cjrcl2"
      }
    },
    {
      "cell_type": "code",
      "execution_count": 21,
      "metadata": {
        "colab": {
          "base_uri": "https://localhost:8080/"
        },
        "id": "ObftlESXrb82",
        "outputId": "fdeefa40-dba6-4e02-8912-96d535678380"
      },
      "outputs": [
        {
          "output_type": "stream",
          "name": "stdout",
          "text": [
            "['Paris', 'Rome', 'Moskov', 'Tokio', 'Los Angeles', 'Madrid', 'Berlin', 'New York', 'London', 'Toronto']\n",
            "\n",
            "La ciudad elegida es -  Moskov\n"
          ]
        }
      ],
      "source": [
        "# 1. mezcla y ciudad\n",
        "\n",
        "import random\n",
        "\n",
        "Lista = ['Rome','New York','London','Berlin','Moskov', 'Los Angeles','Paris','Madrid','Tokio','Toronto']\n",
        "\n",
        "random.shuffle(Lista)\n",
        "\n",
        "print(Lista)\n",
        "\n",
        "print (\"\\nLa ciudad elegida es - \", random.choice(Lista))"
      ]
    },
    {
      "cell_type": "code",
      "source": [
        "#2. mezcla y tres ciudades\n",
        "\n",
        "import random\n",
        "\n",
        "Lista = ['Rome','New York','London','Berlin','Moskov', 'Los Angeles','Paris','Madrid','Tokio','Toronto']\n",
        "\n",
        "random.shuffle(Lista)\n",
        "\n",
        "print(Lista)\n",
        "\n",
        "print(\"\\nLas tres ciudades elegidas son: \", random.sample(Lista, 3))"
      ],
      "metadata": {
        "colab": {
          "base_uri": "https://localhost:8080/"
        },
        "id": "sOnFCf5htZ4N",
        "outputId": "df58ca7c-7e59-41bf-86c6-052f4fb47ac3"
      },
      "execution_count": 22,
      "outputs": [
        {
          "output_type": "stream",
          "name": "stdout",
          "text": [
            "['London', 'Tokio', 'New York', 'Rome', 'Moskov', 'Paris', 'Berlin', 'Madrid', 'Toronto', 'Los Angeles']\n",
            "\n",
            "Las tres ciudades elegidas son:  ['Berlin', 'Paris', 'Rome']\n"
          ]
        }
      ]
    },
    {
      "cell_type": "markdown",
      "source": [
        "\n",
        "\n",
        "1. Generar muestras e histograma de las funciones: triangular(), betavariate(), expovariate(), gammavariate(), lognormvariate(), normalvariate(), vonmisesvariate(), paretovariate() y weibullvariate()"
      ],
      "metadata": {
        "id": "Tsqv8RXbrkjH"
      }
    },
    {
      "cell_type": "code",
      "source": [
        "# Triangular\n",
        "import random\n",
        "import numpy as np\n",
        "import matplotlib.pyplot as plt\n",
        "\n",
        "nums = []\n",
        "mu = 100\n",
        "sigma = 50\n",
        "\n",
        "for i in range(10000):\n",
        "    temp = random.triangular(mu, sigma)\n",
        "    nums.append(temp)\n",
        "\n",
        "plt.hist(nums, bins = 200)\n",
        "plt.title('Triangular')\n",
        "plt.show()\n"
      ],
      "metadata": {
        "colab": {
          "base_uri": "https://localhost:8080/",
          "height": 301
        },
        "id": "WmCtR4Wvr3LD",
        "outputId": "5a6b6637-7f18-4d8e-d445-fdf7b244f2b2"
      },
      "execution_count": 36,
      "outputs": [
        {
          "output_type": "display_data",
          "data": {
            "text/plain": [
              "<Figure size 432x288 with 1 Axes>"
            ],
            "image/png": "[encoded data removed]"
          },
          "metadata": {
            "needs_background": "light"
          }
        }
      ]
    },
    {
      "cell_type": "code",
      "source": [
        "# betavariate \n",
        "import random\n",
        "import numpy as np\n",
        "import matplotlib.pyplot as plt\n",
        "\n",
        "nums = []\n",
        "mu = 100\n",
        "sigma = 5\n",
        "\n",
        "for i in range(10000):\n",
        "    temp = random.betavariate(mu, sigma)\n",
        "    nums.append(temp)\n",
        "\n",
        "plt.hist(nums, bins = 200)\n",
        "plt.title('Beta')\n",
        "plt.show()"
      ],
      "metadata": {
        "colab": {
          "base_uri": "https://localhost:8080/",
          "height": 301
        },
        "id": "v4LqYOO5yuhO",
        "outputId": "0f00c98c-212b-424e-bc06-dd6a407895f3"
      },
      "execution_count": 46,
      "outputs": [
        {
          "output_type": "display_data",
          "data": {
            "text/plain": [
              "<Figure size 432x288 with 1 Axes>"
            ],
            "image/png": "[encoded data removed]"
          },
          "metadata": {
            "needs_background": "light"
          }
        }
      ]
    },
    {
      "cell_type": "code",
      "source": [
        "# Expovariate\n",
        "import random\n",
        "import numpy as np\n",
        "import matplotlib.pyplot as plt\n",
        "\n",
        "nums = []\n",
        "mu = 100\n",
        "\n",
        "for i in range(10000):\n",
        "    temp = random.expovariate(mu)\n",
        "    nums.append(temp)\n",
        "\n",
        "plt.hist(nums, bins = 200)\n",
        "plt.title('Exponencial')\n",
        "plt.show()"
      ],
      "metadata": {
        "colab": {
          "base_uri": "https://localhost:8080/",
          "height": 301
        },
        "id": "ykGq17rIziGl",
        "outputId": "37818080-ec0e-4c56-faa7-f5e441e5cc6c"
      },
      "execution_count": 65,
      "outputs": [
        {
          "output_type": "display_data",
          "data": {
            "text/plain": [
              "<Figure size 432x288 with 1 Axes>"
            ],
            "image/png": "[encoded data removed]"
          },
          "metadata": {
            "needs_background": "light"
          }
        }
      ]
    },
    {
      "cell_type": "code",
      "source": [
        "#gammavariate\n",
        "import random\n",
        "import numpy as np\n",
        "import matplotlib.pyplot as plt\n",
        "\n",
        "nums = []\n",
        "mu = 100\n",
        "sigma = 5\n",
        "\n",
        "for i in range(10000):\n",
        "    temp = random.gammavariate(mu, sigma)\n",
        "    nums.append(temp)\n",
        "\n",
        "plt.hist(nums, bins = 150)\n",
        "plt.title('Gamma')\n",
        "plt.show()"
      ],
      "metadata": {
        "colab": {
          "base_uri": "https://localhost:8080/",
          "height": 301
        },
        "id": "Mh1Z9FuEzkHZ",
        "outputId": "94bb702b-cbd5-4013-8aa5-05b9b2c4f2dd"
      },
      "execution_count": 44,
      "outputs": [
        {
          "output_type": "display_data",
          "data": {
            "text/plain": [
              "<Figure size 432x288 with 1 Axes>"
            ],
            "image/png": "[encoded data removed]"
          },
          "metadata": {
            "needs_background": "light"
          }
        }
      ]
    },
    {
      "cell_type": "code",
      "source": [
        "#lognormvariate\n",
        "import random\n",
        "import numpy as np\n",
        "import matplotlib.pyplot as plt\n",
        "\n",
        "nums = []\n",
        "mu = 100\n",
        "sigma = 5\n",
        "\n",
        "for i in range(10000):\n",
        "    temp = random.lognormvariate(mu, sigma)\n",
        "    nums.append(temp)\n",
        "\n",
        "plt.hist(nums, bins = 100)\n",
        "plt.title('Logaritmica')\n",
        "plt.show()"
      ],
      "metadata": {
        "colab": {
          "base_uri": "https://localhost:8080/",
          "height": 314
        },
        "id": "ooOwfNEZzk9r",
        "outputId": "80e89fd1-2d0b-42f6-9cd8-f67a282ede39"
      },
      "execution_count": 52,
      "outputs": [
        {
          "output_type": "display_data",
          "data": {
            "text/plain": [
              "<Figure size 432x288 with 1 Axes>"
            ],
            "image/png": "[encoded data removed]"
          },
          "metadata": {
            "needs_background": "light"
          }
        }
      ]
    },
    {
      "cell_type": "code",
      "source": [
        "#normalvariate\n",
        "import random\n",
        "import numpy as np\n",
        "import matplotlib.pyplot as plt\n",
        "\n",
        "nums = []\n",
        "mu = 100\n",
        "sigma = 5\n",
        "\n",
        "for i in range(10000):\n",
        "    temp = random.normalvariate(mu, sigma)\n",
        "    nums.append(temp)\n",
        "\n",
        "plt.hist(nums, bins = 200)\n",
        "plt.title('Normal')\n",
        "plt.show()"
      ],
      "metadata": {
        "colab": {
          "base_uri": "https://localhost:8080/",
          "height": 301
        },
        "id": "Pk6u5KNwzljD",
        "outputId": "893b5a66-2cf4-49ef-e5c0-f8c2bff68920"
      },
      "execution_count": 55,
      "outputs": [
        {
          "output_type": "display_data",
          "data": {
            "text/plain": [
              "<Figure size 432x288 with 1 Axes>"
            ],
            "image/png": "[encoded data removed]"
          },
          "metadata": {
            "needs_background": "light"
          }
        }
      ]
    },
    {
      "cell_type": "code",
      "source": [
        "#vonmisesvariate\n",
        "import random\n",
        "import numpy as np\n",
        "import matplotlib.pyplot as plt\n",
        "\n",
        "nums = []\n",
        "mu = 100\n",
        "sigma = 15\n",
        "\n",
        "for i in range(10000):\n",
        "    temp = random.vonmisesvariate(mu, sigma)\n",
        "    nums.append(temp)\n",
        "\n",
        "plt.hist(nums, bins = 300)\n",
        "plt.title('von Mises')\n",
        "plt.show()"
      ],
      "metadata": {
        "colab": {
          "base_uri": "https://localhost:8080/",
          "height": 301
        },
        "id": "w0YR4XVFzmDt",
        "outputId": "bd87e62d-8470-4b73-8094-d5f7404dfd22"
      },
      "execution_count": 62,
      "outputs": [
        {
          "output_type": "display_data",
          "data": {
            "text/plain": [
              "<Figure size 432x288 with 1 Axes>"
            ],
            "image/png": "[encoded data removed]"
          },
          "metadata": {
            "needs_background": "light"
          }
        }
      ]
    },
    {
      "cell_type": "code",
      "source": [
        "#paretovariate\n",
        "import random\n",
        "import numpy as np\n",
        "import matplotlib.pyplot as plt\n",
        "\n",
        "nums = []\n",
        "mu = 100\n",
        "\n",
        "for i in range(10000):\n",
        "    temp = random.paretovariate(mu)\n",
        "    nums.append(temp)\n",
        "\n",
        "plt.hist(nums, bins = 200)\n",
        "plt.title('Pareto')\n",
        "plt.show()"
      ],
      "metadata": {
        "colab": {
          "base_uri": "https://localhost:8080/",
          "height": 301
        },
        "id": "n6MIEfUZzmfP",
        "outputId": "77f050fa-e969-439f-973d-5963b4369871"
      },
      "execution_count": 64,
      "outputs": [
        {
          "output_type": "display_data",
          "data": {
            "text/plain": [
              "<Figure size 432x288 with 1 Axes>"
            ],
            "image/png": "[encoded data removed]"
          },
          "metadata": {
            "needs_background": "light"
          }
        }
      ]
    },
    {
      "cell_type": "code",
      "source": [
        "#weibullvariate\n",
        "import random\n",
        "import numpy as np\n",
        "import matplotlib.pyplot as plt\n",
        "\n",
        "nums = []\n",
        "mu = 100\n",
        "sigma = 16\n",
        "\n",
        "for i in range(10000):\n",
        "    temp = random.weibullvariate(mu, sigma)\n",
        "    nums.append(temp)\n",
        "\n",
        "plt.hist(nums, bins = 200)\n",
        "plt.title('Weibull')\n",
        "plt.show()"
      ],
      "metadata": {
        "colab": {
          "base_uri": "https://localhost:8080/",
          "height": 301
        },
        "id": "6Fy3ZOr1zm_B",
        "outputId": "71315bdc-27a3-4557-ff6e-90a25880f92a"
      },
      "execution_count": 69,
      "outputs": [
        {
          "output_type": "display_data",
          "data": {
            "text/plain": [
              "<Figure size 432x288 with 1 Axes>"
            ],
            "image/png": "[encoded data removed]"
          },
          "metadata": {
            "needs_background": "light"
          }
        }
      ]
    },
    {
      "cell_type": "markdown",
      "source": [
        "1. Simular dos distribuciones de probabilidad (no la normal, no la exponencial), por el método que prefieran."
      ],
      "metadata": {
        "id": "Utjq0xLrrvwG"
      }
    },
    {
      "cell_type": "code",
      "source": [
        "import random                                   \n",
        "import numpy as np                              \n",
        "import matplotlib.pyplot as plt                 \n",
        "from statistics import mean, median, variance, stdev \n",
        "\n",
        "nums = []\n",
        "alpha = 2.5\n",
        "\n",
        "sample = [random.paretovariate(5) for i in range(1000)]\n",
        "plt.hist(sample, bins = 200)\n",
        "plt.show()\n",
        "\n",
        "print(f'Media: {mean(sample):.4f}\\nMediana: {median(sample):.4f}')\n",
        "print(f'Varianza: {variance(sample):.4f}\\nDesviación estándar: {stdev(sample):.4f}')"
      ],
      "metadata": {
        "colab": {
          "base_uri": "https://localhost:8080/",
          "height": 352
        },
        "id": "d-YvHAujsDpi",
        "outputId": "0d4caed8-b5ea-459b-bb8b-91c7d11c7866"
      },
      "execution_count": 90,
      "outputs": [
        {
          "output_type": "display_data",
          "data": {
            "text/plain": [
              "<Figure size 432x288 with 1 Axes>"
            ],
            "image/png": "[encoded data removed]"
          },
          "metadata": {
            "needs_background": "light"
          }
        },
        {
          "output_type": "stream",
          "name": "stdout",
          "text": [
            "Media: 1.2545\n",
            "Mediana: 1.1600\n",
            "Varianza: 0.1035\n",
            "Desviación estándar: 0.3218\n"
          ]
        }
      ]
    },
    {
      "cell_type": "code",
      "source": [
        "import random                                   \n",
        "import numpy as np                              \n",
        "import matplotlib.pyplot as plt                 \n",
        "from statistics import mean, median, variance, stdev \n",
        "\n",
        "nums = []\n",
        "\n",
        "sample = [random.gammavariate(100,3) for i in range(1000)]\n",
        "plt.hist(sample, bins = 200)\n",
        "plt.show()\n",
        "\n",
        "print(f'Media: {mean(sample):.4f}\\nMediana: {median(sample):.4f}')\n",
        "print(f'Varianza: {variance(sample):.4f}\\nDesviación estándar: {stdev(sample):.4f}')"
      ],
      "metadata": {
        "colab": {
          "base_uri": "https://localhost:8080/",
          "height": 352
        },
        "id": "RdRSgXQZ6bxa",
        "outputId": "1a6ed2ec-27e1-45a8-e2d1-818ad73b0311"
      },
      "execution_count": 96,
      "outputs": [
        {
          "output_type": "display_data",
          "data": {
            "text/plain": [
              "<Figure size 432x288 with 1 Axes>"
            ],
            "image/png": "[encoded data removed]"
          },
          "metadata": {
            "needs_background": "light"
          }
        },
        {
          "output_type": "stream",
          "name": "stdout",
          "text": [
            "Media: 299.7344\n",
            "Mediana: 297.4414\n",
            "Varianza: 858.5233\n",
            "Desviación estándar: 29.3006\n"
          ]
        }
      ]
    }
  ]
}