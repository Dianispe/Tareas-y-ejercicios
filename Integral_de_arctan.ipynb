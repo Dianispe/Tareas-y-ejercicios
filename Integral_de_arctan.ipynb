{
  "nbformat": 4,
  "nbformat_minor": 0,
  "metadata": {
    "colab": {
      "name": "Integral de arctan.ipynb",
      "provenance": [],
      "include_colab_link": true
    },
    "kernelspec": {
      "name": "python3",
      "display_name": "Python 3"
    },
    "language_info": {
      "name": "python"
    }
  },
  "cells": [
    {
      "cell_type": "markdown",
      "metadata": {
        "id": "view-in-github",
        "colab_type": "text"
      },
      "source": [
        "<a href=\"https://colab.research.google.com/github/Dianispe/Tareas-y-ejercicios/blob/main/Integral_de_arctan.ipynb\" target=\"_parent\"><img src=\"https://colab.research.google.com/assets/colab-badge.svg\" alt=\"Open In Colab\"/></a>"
      ]
    },
    {
      "cell_type": "code",
      "execution_count": null,
      "metadata": {
        "id": "3THZUcF8TAoO",
        "outputId": "fd0befc8-efe4-49d2-df26-e0ff8e5bde14",
        "colab": {
          "base_uri": "https://localhost:8080/"
        }
      },
      "outputs": [
        {
          "output_type": "stream",
          "name": "stdout",
          "text": [
            "0.6298300898155694\n"
          ]
        }
      ],
      "source": [
        "from random import random\n",
        "from math import sqrt, atan\n",
        "n=1000000\n",
        "\n",
        "sum=0\n",
        "\n",
        "for i in range (n):\n",
        "\n",
        "  u=random()\n",
        "  sum=sum+sqrt(atan(u))\n",
        "print(sum/n)"
      ]
    }
  ]
}