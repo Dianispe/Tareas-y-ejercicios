{
  "nbformat": 4,
  "nbformat_minor": 0,
  "metadata": {
    "colab": {
      "name": "Ejercicio 2 (sorteo de color).ipynb",
      "provenance": [],
      "authorship_tag": "ABX9TyNmChI0shC/zfk/x6UuPY9s",
      "include_colab_link": true
    },
    "kernelspec": {
      "name": "python3",
      "display_name": "Python 3"
    },
    "language_info": {
      "name": "python"
    }
  },
  "cells": [
    {
      "cell_type": "markdown",
      "metadata": {
        "id": "view-in-github",
        "colab_type": "text"
      },
      "source": [
        "<a href=\"https://colab.research.google.com/github/Dianispe/Tareas-y-ejercicios/blob/main/Ejercicio_2_(sorteo_de_color).ipynb\" target=\"_parent\"><img src=\"https://colab.research.google.com/assets/colab-badge.svg\" alt=\"Open In Colab\"/></a>"
      ]
    },
    {
      "cell_type": "markdown",
      "source": [
        "Ejercicio 2:\n",
        "\n",
        "a) Simular un sorteo de los colores blanco, negro, rojo, azul y verde.\n",
        "\n",
        "b) Simular 5 sorteos con sustitución."
      ],
      "metadata": {
        "id": "Fl0lDAPbgOBv"
      }
    },
    {
      "cell_type": "code",
      "source": [
        "#a) simular un sorteo\n",
        "import random\n",
        "\n",
        "sorteo=['blanco','negro','rojo','azul','verde']\n",
        "\n",
        "for i in range(1):\n",
        "    print(random.choice(sorteo), end=' ')\n",
        "print()"
      ],
      "metadata": {
        "colab": {
          "base_uri": "https://localhost:8080/"
        },
        "id": "Tcg7AEjUgSd0",
        "outputId": "6c329871-ecf7-472f-ac43-6d11cf4cc98c"
      },
      "execution_count": 3,
      "outputs": [
        {
          "output_type": "stream",
          "name": "stdout",
          "text": [
            "verde \n"
          ]
        }
      ]
    },
    {
      "cell_type": "code",
      "source": [
        "#b) simular cinco sorteos con sustitución\n",
        "import random\n",
        "\n",
        "sorteo=['blanco','negro','rojo','azul','verde']\n",
        "\n",
        "for i in range(5):\n",
        "    print(random.choice(sorteo), end=' ')\n",
        "print()"
      ],
      "metadata": {
        "colab": {
          "base_uri": "https://localhost:8080/"
        },
        "id": "_USor8mogaka",
        "outputId": "e2963428-471f-4696-f07e-614bd0310489"
      },
      "execution_count": 1,
      "outputs": [
        {
          "output_type": "stream",
          "name": "stdout",
          "text": [
            "azul rojo rojo negro blanco \n"
          ]
        }
      ]
    }
  ]
}