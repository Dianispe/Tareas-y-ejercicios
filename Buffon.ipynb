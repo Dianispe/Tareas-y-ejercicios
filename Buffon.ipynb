{
  "nbformat": 4,
  "nbformat_minor": 0,
  "metadata": {
    "colab": {
      "name": "Buffon.ipynb",
      "provenance": [],
      "include_colab_link": true
    },
    "kernelspec": {
      "name": "python3",
      "display_name": "Python 3"
    },
    "language_info": {
      "name": "python"
    }
  },
  "cells": [
    {
      "cell_type": "markdown",
      "metadata": {
        "id": "view-in-github",
        "colab_type": "text"
      },
      "source": [
        "<a href=\"https://colab.research.google.com/github/Dianispe/Tareas-y-ejercicios/blob/main/Buffon.ipynb\" target=\"_parent\"><img src=\"https://colab.research.google.com/assets/colab-badge.svg\" alt=\"Open In Colab\"/></a>"
      ]
    },
    {
      "cell_type": "code",
      "source": [
        "from random import random, randint,uniform\n",
        "from math import sin \n",
        "\n",
        "cruce=0\n",
        "alfiler=int(input(\"¿Cuantos alfileres quieres lanzar? \"))\n",
        "for i in range (alfiler):\n",
        "  d=uniform(0,.5)\n",
        "  t=randint(0,180)\n",
        "  if d>=.5*sin(t):\n",
        "    cruce=cruce+1\n",
        "print(\"alfileres que tocan:\", cruce)\n",
        "print(\"aproximación del valor de pi: \", 2*alfiler/cruce)\n",
        "\n"
      ],
      "metadata": {
        "id": "ZAJ2EPng4uBc",
        "colab": {
          "base_uri": "https://localhost:8080/"
        },
        "outputId": "c02c1ddf-8bc6-4c9a-af88-ef16c9d920b1"
      },
      "execution_count": 4,
      "outputs": [
        {
          "output_type": "stream",
          "name": "stdout",
          "text": [
            "¿Cuantos alfileres quieres lanzar? 31416\n",
            "alfileres que tocan: 21448\n",
            "aproximación del valor de pi:  2.9295039164490864\n"
          ]
        }
      ]
    }
  ]
}