{
  "nbformat": 4,
  "nbformat_minor": 0,
  "metadata": {
    "colab": {
      "name": "Ejercicio 1 (cara o sol)",
      "provenance": [],
      "authorship_tag": "ABX9TyMCxoscjVus3KRQ4KViW31i",
      "include_colab_link": true
    },
    "kernelspec": {
      "name": "python3",
      "display_name": "Python 3"
    },
    "language_info": {
      "name": "python"
    }
  },
  "cells": [
    {
      "cell_type": "markdown",
      "metadata": {
        "id": "view-in-github",
        "colab_type": "text"
      },
      "source": [
        "<a href=\"https://colab.research.google.com/github/Dianispe/Tareas-y-ejercicios/blob/main/Ejercicio_1_(cara_o_sol).ipynb\" target=\"_parent\"><img src=\"https://colab.research.google.com/assets/colab-badge.svg\" alt=\"Open In Colab\"/></a>"
      ]
    },
    {
      "cell_type": "markdown",
      "source": [
        "Ejercicio 1:\n",
        "\n",
        "a)Usar la función random() para simular 1 volado.\n",
        "\n",
        "b)Usar la función random() para simular 1000 volados.\n",
        "\n",
        "c)Determinar de b) la probabilidad de que ocurra \"sol\" en un volado. "
      ],
      "metadata": {
        "id": "LitdZ-1t_z8-"
      }
    },
    {
      "cell_type": "code",
      "source": [
        "#a) simular un volado\n",
        "import random\n",
        "\n",
        "volado=['cara','sol']\n",
        "\n",
        "for i in range(1):\n",
        "    print(random.choice(volado), end=' ')\n",
        "print()\n"
      ],
      "metadata": {
        "colab": {
          "base_uri": "https://localhost:8080/"
        },
        "id": "8CY3rjEp_1Aq",
        "outputId": "55653e3c-ee38-4063-c15a-e1d6ffce55de"
      },
      "execution_count": 18,
      "outputs": [
        {
          "output_type": "stream",
          "name": "stdout",
          "text": [
            "cara \n"
          ]
        }
      ]
    },
    {
      "cell_type": "code",
      "source": [
        "\n",
        "#b) simular 1000 volados\n",
        "import random\n",
        "\n",
        "volado={'cara': 0,'sol': 0}\n",
        "gana=list(volado.keys())\n",
        "\n",
        "for _ in range(1000):\n",
        "    volado[random.choice(gana)]+=1\n",
        "    \n",
        "print(\"cara:\", volado['cara'])\n",
        "print(\"sol:\", volado['sol'])"
      ],
      "metadata": {
        "colab": {
          "base_uri": "https://localhost:8080/"
        },
        "id": "h5etDoJ_auMl",
        "outputId": "7768ff7e-71b0-4f17-a74f-398c709a5dde"
      },
      "execution_count": 20,
      "outputs": [
        {
          "output_type": "stream",
          "name": "stdout",
          "text": [
            "cara: 506\n",
            "sol: 494\n"
          ]
        }
      ]
    },
    {
      "cell_type": "code",
      "source": [
        "#c) probabilidad de que ocurra sol\n",
        "import random\n",
        "\n",
        "volado={'cara': 0,'sol': 0}\n",
        "gana=list(volado.keys())\n",
        "\n",
        "for _ in range(1000):\n",
        "    volado[random.choice(gana)] +=1\n",
        "\n",
        "p=volado['sol']/1000\n",
        "    \n",
        "print(\"Probabilidad de que caiga sol:\", p) "
      ],
      "metadata": {
        "colab": {
          "base_uri": "https://localhost:8080/"
        },
        "id": "Y4E3zZzchXis",
        "outputId": "9aa982fb-7ba2-421b-f928-0b9dbf49f411"
      },
      "execution_count": 22,
      "outputs": [
        {
          "output_type": "stream",
          "name": "stdout",
          "text": [
            "Probabilidad de que caiga sol: 0.503\n"
          ]
        }
      ]
    }
  ]
}