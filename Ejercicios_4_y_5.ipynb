{
  "nbformat": 4,
  "nbformat_minor": 0,
  "metadata": {
    "colab": {
      "name": "Ejercicios 4 y 5.ipynb",
      "provenance": [],
      "authorship_tag": "ABX9TyN+EuLyCmaZ2OylQblVszcP",
      "include_colab_link": true
    },
    "kernelspec": {
      "name": "python3",
      "display_name": "Python 3"
    },
    "language_info": {
      "name": "python"
    }
  },
  "cells": [
    {
      "cell_type": "markdown",
      "metadata": {
        "id": "view-in-github",
        "colab_type": "text"
      },
      "source": [
        "<a href=\"https://colab.research.google.com/github/Dianispe/Tareas-y-ejercicios/blob/main/Ejercicios_4_y_5.ipynb\" target=\"_parent\"><img src=\"https://colab.research.google.com/assets/colab-badge.svg\" alt=\"Open In Colab\"/></a>"
      ]
    },
    {
      "cell_type": "markdown",
      "source": [
        "Ejercicio 4:\n",
        "\n",
        "Calcular E[Xi] y V[Xi]\n"
      ],
      "metadata": {
        "id": "1VwHG_FlbQ62"
      }
    },
    {
      "cell_type": "code",
      "source": [
        "from random import random\n",
        "from statistics import mean,variance\n",
        "from math import sqrt,pi\n",
        "import numpy as np\n",
        "\n",
        "nr=100000\n",
        "l1=[ ]\n",
        "l2=[ ]\n",
        "con=0\n",
        "for i in range(nr):\n",
        "     x=random()\n",
        "     y=random()\n",
        "     if x**2+y**2<1:\n",
        "          I1=1\n",
        "     else:\n",
        "          I1=0\n",
        "     l1.append(I1)\n",
        "     l2.append(x*y)\n",
        "print(\"E[xi]: \",mean(l1))\n",
        "print(\"V[xi]: \", variance(l1))"
      ],
      "metadata": {
        "colab": {
          "base_uri": "https://localhost:8080/"
        },
        "id": "40TdqO7nbyLO",
        "outputId": "c1bb95e4-6528-421b-d8d6-d875bcf831f0"
      },
      "execution_count": 10,
      "outputs": [
        {
          "output_type": "stream",
          "name": "stdout",
          "text": [
            "E[xi]:  0.7854\n",
            "V[xi]:  0.16854852548525487\n"
          ]
        }
      ]
    },
    {
      "cell_type": "markdown",
      "source": [
        "Ejercicio 5:\n",
        "\n",
        "a) Calcular E[ZN] y V [ZN]\n",
        "\n",
        "b) ¿Cuál debe ser el valor de N para que el error sea de 0.01?"
      ],
      "metadata": {
        "id": "9pythe_Zbgi9"
      }
    },
    {
      "cell_type": "code",
      "source": [
        "from statistics import mean, variance\n",
        "def pi_mc(n):\n",
        "    pi = 0\n",
        "    lx = []\n",
        "    ly = []\n",
        "    counter = 0\n",
        "    xi = 0\n",
        "    z = []\n",
        "    for i in range(n):\n",
        "        x = random.random()\n",
        "        y = random.random()\n",
        "        if x**2 + y**2 <1:\n",
        "            counter = counter + 1\n",
        "            lx.append(counter)\n",
        "            ly.append(4.0*float(counter)/(i + 1))\n",
        "            xi = 1\n",
        "            z.append(xi) \n",
        "        else:\n",
        "            xi = 0\n",
        "            z.append(xi) \n",
        "        \n",
        "    print(\"E[Zn]: \", mean(z))\n",
        "    print(\"V[Zn]: \", variance(z))\n",
        "\n",
        "pi_mc(10000)\n",
        "    "
      ],
      "metadata": {
        "colab": {
          "base_uri": "https://localhost:8080/"
        },
        "id": "ySt6dQEckPbP",
        "outputId": "59bef601-bcb1-418e-9c48-c9038a7b3ce1"
      },
      "execution_count": 28,
      "outputs": [
        {
          "output_type": "stream",
          "name": "stdout",
          "text": [
            "E[Zn]:  0.7763\n",
            "V[Zn]:  0.1736756775677568\n"
          ]
        }
      ]
    }
  ]
}